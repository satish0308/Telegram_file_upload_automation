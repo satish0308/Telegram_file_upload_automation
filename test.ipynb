{
 "cells": [
  {
   "cell_type": "code",
   "execution_count": null,
   "metadata": {},
   "outputs": [],
   "source": [
    "def get_processed_files():\n",
    "    \"\"\"Retrieve list of already processed files.\"\"\"\n",
    "    try:\n",
    "        with open('processed_files.csv', 'r') as file:\n",
    "            return set(file.read().splitlines())\n",
    "    except FileNotFoundError:\n",
    "        return set()"
   ]
  },
  {
   "cell_type": "code",
   "execution_count": null,
   "metadata": {},
   "outputs": [],
   "source": [
    "get_processed_files()"
   ]
  },
  {
   "cell_type": "code",
   "execution_count": null,
   "metadata": {},
   "outputs": [],
   "source": [
    "import os"
   ]
  },
  {
   "cell_type": "code",
   "execution_count": null,
   "metadata": {},
   "outputs": [],
   "source": [
    "def print_count():\n",
    "    count=0\n",
    "    for file in os.listdir('process_files'):\n",
    "        if \"process_files\"+\"/\"+str(file) not in get_processed_files() and str(file).replace(\"_processed\",\"\") in os.listdir(\"/media/satish/Data/ubuntu_sd4/sda4/NARESH IT - DS & AI CHAT GPT\"):\n",
    "            #print(file)\n",
    "            count+=1\n",
    "    return count"
   ]
  },
  {
   "cell_type": "code",
   "execution_count": null,
   "metadata": {},
   "outputs": [],
   "source": [
    "print_count()"
   ]
  },
  {
   "cell_type": "code",
   "execution_count": null,
   "metadata": {},
   "outputs": [],
   "source": [
    "processed_files = get_processed_files()\n",
    "\n",
    "file_folder = \"/media/satish/Data/ubuntu_sd4/sda4/PYSPARK BY DURGASOFT\"\n",
    "process_file_folder = 'process_files'\n",
    "files_to_process = [os.path.join(root, f) for root, _, files in os.walk(file_folder) for f in files if f.endswith('.mp4')]\n",
    "files_to_process = [f for f in files_to_process if os.path.join(process_file_folder, os.path.basename(f).replace('.mp4', '_processed.mp4')) not in processed_files]\n"
   ]
  },
  {
   "cell_type": "code",
   "execution_count": null,
   "metadata": {},
   "outputs": [],
   "source": [
    "import os\n",
    "import asyncio\n",
    "import zipfile\n",
    "import logging\n",
    "from multiprocessing import Manager\n",
    "from telethon import TelegramClient\n",
    "from dotenv import load_dotenv\n",
    "# Configure logging\n",
    "logging.basicConfig(level=logging.INFO, format='%(asctime)s - %(levelname)s - %(message)s')\n",
    "\n",
    "# Telegram API credentials\n",
    "env=load_dotenv()\n",
    "api_id = os.getenv(\"api_id\")\n",
    "api_hash = os.getenv(\"api_hash\")\n",
    "friend_myphone = os.getenv(\"friend_myphone\")\n",
    "my_phone = os.getenv(\"my_phone\")\n",
    "\n",
    "\n",
    "source_folder = \"/media/satish/Data/MONGO DB BY DURGA SIR\"\n",
    "zip_folder = 'zip_files'\n",
    "processed_files_log = 'processed_zips.csv'\n",
    "MAX_ZIP_SIZE = 2 * 1024 * 1024 * 1024  # 2GB\n",
    "\n",
    "def get_processed_files():\n",
    "    try:\n",
    "        with open(processed_files_log, 'r') as file:\n",
    "            return set(file.read().splitlines())\n",
    "    except FileNotFoundError:\n",
    "        return set()\n",
    "def store_history(file_path):\n",
    "    with open(processed_files_log, 'a') as file:\n",
    "        file.write(f\"{file_path}\\n\")"
   ]
  },
  {
   "cell_type": "code",
   "execution_count": null,
   "metadata": {},
   "outputs": [],
   "source": [
    "client = TelegramClient('178911_satish', api_id, api_hash)\n",
    "await client.start(my_phone)\n",
    "for file in os.listdir('zip_files'):\n",
    "    if \"zip_files/\"+file not in get_processed_files():\n",
    "        zip_file_path=os.path.join(zip_folder,file)\n",
    "\n",
    "        print(zip_file_path)\n",
    "        friend = await client.get_entity(friend_myphone)\n",
    "        await client.send_file(friend, zip_file_path, caption=os.path.basename(zip_file_path))\n",
    "        print(f\"Sending the file {zip_file_path}\")\n",
    "        store_history(zip_file_path)\n",
    "        \n",
    "client.run_until_disconnected()"
   ]
  },
  {
   "cell_type": "code",
   "execution_count": null,
   "metadata": {},
   "outputs": [],
   "source": []
  },
  {
   "cell_type": "code",
   "execution_count": null,
   "metadata": {},
   "outputs": [],
   "source": []
  },
  {
   "cell_type": "code",
   "execution_count": null,
   "metadata": {},
   "outputs": [],
   "source": []
  }
 ],
 "metadata": {
  "kernelspec": {
   "display_name": "base",
   "language": "python",
   "name": "python3"
  },
  "language_info": {
   "codemirror_mode": {
    "name": "ipython",
    "version": 3
   },
   "file_extension": ".py",
   "mimetype": "text/x-python",
   "name": "python",
   "nbconvert_exporter": "python",
   "pygments_lexer": "ipython3",
   "version": "3.12.7"
  }
 },
 "nbformat": 4,
 "nbformat_minor": 2
}
